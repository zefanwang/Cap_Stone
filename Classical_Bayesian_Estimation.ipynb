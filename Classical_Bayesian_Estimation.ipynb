{
 "cells": [
  {
   "cell_type": "code",
   "execution_count": 81,
   "metadata": {},
   "outputs": [],
   "source": [
    "from IPython.display import Image\n",
    "import numpy as np\n",
    "import pandas as pd\n",
    "from sklearn.linear_model import LinearRegression\n",
    "import statsmodels.api as sm"
   ]
  },
  {
   "cell_type": "markdown",
   "metadata": {},
   "source": [
    "# Classical & Bayesian Estimation"
   ]
  },
  {
   "cell_type": "markdown",
   "metadata": {},
   "source": [
    "### Recommended Book: Greene, W. H. (2003). Econometric analysis. Pearson Education India.\n",
    "1. Handbook for econometric & statistical analysis and modeling: linear & nonlinear, panel & time-series data, LS & ML & GMM & Bayesian\n",
    "2. Answers for most of interview questions reagrding statistics and modeling: multicollinearity\n",
    "3. Implications on the connection between econometrics and machine learning: adjusted R-square, information criteria & regularization"
   ]
  },
  {
   "cell_type": "markdown",
   "metadata": {
    "collapsed": true
   },
   "source": [
    "#### Related Chapter:  \n",
    "Chapter 5 - Hypothesis Testing\n",
    "\n",
    "Chapter 16 - Bayesian Estimation\n",
    "\n",
    "Chapter 12 - Estimation Frameworks in Econometrics"
   ]
  },
  {
   "cell_type": "markdown",
   "metadata": {},
   "source": [
    "### Different Estimations\n",
    "-  LS (BLUE) & ML & GMM & Bayesian\n",
    "-  Full & Semi & Non-Parametric Estimation\n",
    "-  Different Assumptions, Properties & Conclusions"
   ]
  },
  {
   "cell_type": "markdown",
   "metadata": {},
   "source": [
    "## Hypothesis Testing"
   ]
  },
  {
   "cell_type": "markdown",
   "metadata": {},
   "source": [
    "#### Linear Regression:\n",
    "-  Estimation\n",
    "-  Prediction\n",
    "-  Hypothesis Testing: Test if a variable is relevant or its parameter is equal to some value based on data."
   ]
  },
  {
   "cell_type": "markdown",
   "metadata": {},
   "source": [
    "#### Baseline Regression Model:\n",
    "$y = \\beta\\ X + \\epsilon$\n",
    "\n",
    "$y = \\beta_1\\ X_1 + \\beta_2\\ X_2 + \\beta_3\\ X_3 + \\epsilon$\n",
    "\n",
    "#### A Standard Dynamic Lending Model:\n",
    "##### Tesing if bank's capital ratio matters for its lending decisison: $\\eta\\ = 0$ ?\n",
    "$\\Delta \\ln L_{i,t} = \\alpha_{i} + \\theta_{t} + \\sum_{j=1}^{4} \\beta_j\\ \\Delta \\ln L_{i,t-j} + \\eta\\ Capital_{i,t-1} + \\sum_{j=1}^{4}\\ \\mu_j\\ \\Delta MP_{t-j} + \\phi\\ Z_{i,t-j}+\\epsilon_{i,t}$\n",
    "\n",
    "OLS assumption is violated, so OLS and FE are not consistent, use system GMM to reach a consistent and efficient estimation."
   ]
  },
  {
   "cell_type": "markdown",
   "metadata": {
    "collapsed": true
   },
   "source": [
    "#### Questions:\n",
    "How do we decide if the parameter is close to zero enough?\n",
    "\n",
    "How certain are we?\n",
    "\n",
    "How likely we are actually wrong?"
   ]
  },
  {
   "cell_type": "markdown",
   "metadata": {
    "collapsed": true
   },
   "source": [
    "#### Tesing if $\\beta_1$ equals to something conditional on that $X_2$ and $X_3$ has been taken care:\n",
    "$H_0: \\beta_2 = 0$\n",
    "\n",
    "$H_1: \\beta_2 \\neq 0$\n",
    "\n",
    "Based on data\n"
   ]
  },
  {
   "cell_type": "markdown",
   "metadata": {},
   "source": [
    "#### Method:\n",
    "Neyman & Pearson (1933): Rejection region and acceptance regaion.  Or Critical Value.\n",
    "\n",
    "Test how far the parameter suggested by data is from the assumed value or 0 to give a enough confidence that we can make a conclusion.\n",
    "\n",
    "Linear & Nonlinear Restrictions: Wald tests (test restriction's closeness to 0), Fit based tests ($R^2$).\n",
    "\n",
    "Should be in matrix form, but for simplicity:\n",
    "\n",
    "Wald Test (significance or distance test): $W = \\dfrac{\\beta_1 - \\beta_0}{\\sqrt{\\sigma^2}}$\n",
    "\n",
    "Cannot observe population variance, use sample variance instead:\n",
    "\n",
    "T Test: $t = \\dfrac{b - \\beta_0}{\\sqrt{s^2}}$\n",
    "\n",
    "Compare with critical value which is based on $\\alpha$ (size) and degree of freedom (N-K)\n",
    "\n",
    "In Short:\n",
    "$t = \\dfrac{b}{s}$, and usually compare with 1.96 if sample is large.  Units of standard deviation from 0, the large the t is, the more likely the parameter is not zero, or the more likely the variable is relevant."
   ]
  },
  {
   "cell_type": "markdown",
   "metadata": {},
   "source": [
    "#### Two types of Error\n",
    "Type I Error: Fail to accept $H_0$\n",
    "\n",
    "Type II Error: Fail to reject $H_0$\n",
    "\n",
    "Size of the test: Probability of Type I error.  Probability of incorrectly reject the null.\n",
    "\n",
    "Power of a test: 1 - Probability of Type II error.  Probability of correctly reject a false null.\n",
    "\n",
    "P-value, probability of making type I error.  The smaller, the better.  The smaller the p-value is, the large the t statistics will be, the more significant the variable is, and the parameter is more likely to be non-zero."
   ]
  },
  {
   "cell_type": "markdown",
   "metadata": {},
   "source": [
    "Graph I created using tool from Website: http://www.imathas.com/stattools/norm.html"
   ]
  },
  {
   "cell_type": "code",
   "execution_count": 12,
   "metadata": {},
   "outputs": [
    {
     "data": {
      "image/png": "[encoded data removed]",
      "text/plain": [
       "<IPython.core.display.Image object>"
      ]
     },
     "execution_count": 12,
     "metadata": {
      "image/png": {
       "width": 550
      }
     },
     "output_type": "execute_result"
    }
   ],
   "source": [
    "Image(filename='ttest.png', width = 550)"
   ]
  },
  {
   "cell_type": "markdown",
   "metadata": {},
   "source": [
    "Wikipedia: https://en.wikipedia.org/wiki/Precision_and_recall\n",
    "\n",
    "By Walber - Own work, CC BY-SA 4.0, https://commons.wikimedia.org/w/index.php?curid=36926283"
   ]
  },
  {
   "cell_type": "code",
   "execution_count": 17,
   "metadata": {},
   "outputs": [
    {
     "data": {
      "image/png": "[encoded data removed]",
      "text/plain": [
       "<IPython.core.display.Image object>"
      ]
     },
     "execution_count": 17,
     "metadata": {
      "image/png": {
       "width": 450
      }
     },
     "output_type": "execute_result"
    }
   ],
   "source": [
    "Image(filename='precisionrecall.png', width = 450)"
   ]
  },
  {
   "cell_type": "markdown",
   "metadata": {},
   "source": [
    "$Precision = \\dfrac{TP}{TP + FP}$\n",
    "\n",
    "$Recall = \\dfrac{TP}{TP + FN}$\n",
    "\n",
    "$H_0$ : Negative\n",
    "\n",
    "$H_1$ : Positive\n",
    "\n",
    "Type I Error: Fail to accept $H_0$, False Positive, 3\n",
    "\n",
    "Type II Error: Fail to reject $H_0$, False Negative, 7"
   ]
  },
  {
   "cell_type": "markdown",
   "metadata": {},
   "source": [
    "#### Assumptions\n",
    "Consistent if power goes to 1 as sample size grows to infinity.  Testing procedure is consistent if testing based on a consistent estimator.  For linear regression, LS is best linear unbiased estimator (BLUE).\n",
    "\n",
    "Linear Regression Model Assumptions: LS is BLUE, effecient and consistent\n",
    "1. Linearity: Linear relationship between y and X, linear in parameter, not variable, for example: log and higher order.\n",
    "2. Full rank: no exact linear relationship among X, or multicollinearity, identification problem.  Test VIF.\n",
    "3. Exogeneity of the independent variables: no correlation between X and $\\epsilon$, biased and inconsistent, omitted variable bias.  Use instruments or lag...\n",
    "4. iid disturbance, no autocorrelation between disturbance, and homoscedasticity or constant variance $\\sigma^2$.  Use robust variance\n",
    "5. Stochastic or nonstochastic data\n",
    "6. Normal distribution of disturbances\n",
    "\n",
    "In the above lending model, assumption 3 is violated, LS is not consistent anymore.  So use GMM.\n",
    "\n",
    "5 & 6 might be relaxed for large sample, 1 - 4 are strong\n",
    "\n",
    "Small sample, t test, disturbances normally distributed: Can carry the test result to parameter.  Population variance cannot be observed, use sample variance instead.  As sample size increase, quality of t statistics approximation improves, asymptotically normal, no need for normally distributed disturbance.  Central Limit Theorem.  Wald test, Z test or $\\chi^2$ might be more efficient than t."
   ]
  },
  {
   "cell_type": "markdown",
   "metadata": {},
   "source": [
    "#### Coding Example for A Simple Regression using Bank Data"
   ]
  },
  {
   "cell_type": "code",
   "execution_count": 5,
   "metadata": {},
   "outputs": [],
   "source": [
    "bank = pd.read_csv(r'C:\\Users\\zefan\\Desktop\\CapStone_Project\\bank.csv')"
   ]
  },
  {
   "cell_type": "code",
   "execution_count": 8,
   "metadata": {},
   "outputs": [
    {
     "data": {
      "text/html": [
       "<div>\n",
       "<style>\n",
       "    .dataframe thead tr:only-child th {\n",
       "        text-align: right;\n",
       "    }\n",
       "\n",
       "    .dataframe thead th {\n",
       "        text-align: left;\n",
       "    }\n",
       "\n",
       "    .dataframe tbody tr th {\n",
       "        vertical-align: top;\n",
       "    }\n",
       "</style>\n",
       "<table border=\"1\" class=\"dataframe\">\n",
       "  <thead>\n",
       "    <tr style=\"text-align: right;\">\n",
       "      <th></th>\n",
       "      <th>cert</th>\n",
       "      <th>name</th>\n",
       "      <th>stalp</th>\n",
       "      <th>sc</th>\n",
       "      <th>idlnls</th>\n",
       "      <th>intexpy</th>\n",
       "      <th>nonixay</th>\n",
       "      <th>rbc1aaj</th>\n",
       "      <th>rbc1rwaj</th>\n",
       "      <th>rbcrwaj</th>\n",
       "      <th>...</th>\n",
       "      <th>npl</th>\n",
       "      <th>cet1</th>\n",
       "      <th>yd09</th>\n",
       "      <th>yd13</th>\n",
       "      <th>q1</th>\n",
       "      <th>q2</th>\n",
       "      <th>q3</th>\n",
       "      <th>q4</th>\n",
       "      <th>stress</th>\n",
       "      <th>basel</th>\n",
       "    </tr>\n",
       "  </thead>\n",
       "  <tbody>\n",
       "    <tr>\n",
       "      <th>0</th>\n",
       "      <td>9</td>\n",
       "      <td>Union Trust Company</td>\n",
       "      <td>ME</td>\n",
       "      <td>97811</td>\n",
       "      <td>214531</td>\n",
       "      <td>3.354426</td>\n",
       "      <td>3.635234</td>\n",
       "      <td>7.396668</td>\n",
       "      <td>12.90231</td>\n",
       "      <td>14.15748</td>\n",
       "      <td>...</td>\n",
       "      <td>2.075906</td>\n",
       "      <td>12.90231</td>\n",
       "      <td>0</td>\n",
       "      <td>0</td>\n",
       "      <td>0</td>\n",
       "      <td>0</td>\n",
       "      <td>0</td>\n",
       "      <td>1</td>\n",
       "      <td>0</td>\n",
       "      <td>0</td>\n",
       "    </tr>\n",
       "    <tr>\n",
       "      <th>1</th>\n",
       "      <td>9</td>\n",
       "      <td>Union Trust Company</td>\n",
       "      <td>ME</td>\n",
       "      <td>99982</td>\n",
       "      <td>219438</td>\n",
       "      <td>2.274367</td>\n",
       "      <td>3.377611</td>\n",
       "      <td>7.715183</td>\n",
       "      <td>13.33261</td>\n",
       "      <td>14.58879</td>\n",
       "      <td>...</td>\n",
       "      <td>1.144735</td>\n",
       "      <td>13.33261</td>\n",
       "      <td>0</td>\n",
       "      <td>0</td>\n",
       "      <td>1</td>\n",
       "      <td>0</td>\n",
       "      <td>0</td>\n",
       "      <td>0</td>\n",
       "      <td>0</td>\n",
       "      <td>0</td>\n",
       "    </tr>\n",
       "    <tr>\n",
       "      <th>2</th>\n",
       "      <td>9</td>\n",
       "      <td>Union Trust Company</td>\n",
       "      <td>ME</td>\n",
       "      <td>107207</td>\n",
       "      <td>224276</td>\n",
       "      <td>2.236159</td>\n",
       "      <td>3.517961</td>\n",
       "      <td>7.733468</td>\n",
       "      <td>13.39351</td>\n",
       "      <td>14.64933</td>\n",
       "      <td>...</td>\n",
       "      <td>0.872765</td>\n",
       "      <td>13.39351</td>\n",
       "      <td>0</td>\n",
       "      <td>0</td>\n",
       "      <td>0</td>\n",
       "      <td>1</td>\n",
       "      <td>0</td>\n",
       "      <td>0</td>\n",
       "      <td>0</td>\n",
       "      <td>0</td>\n",
       "    </tr>\n",
       "    <tr>\n",
       "      <th>3</th>\n",
       "      <td>9</td>\n",
       "      <td>Union Trust Company</td>\n",
       "      <td>ME</td>\n",
       "      <td>108398</td>\n",
       "      <td>229173</td>\n",
       "      <td>2.191243</td>\n",
       "      <td>3.500027</td>\n",
       "      <td>7.681346</td>\n",
       "      <td>13.29637</td>\n",
       "      <td>14.55234</td>\n",
       "      <td>...</td>\n",
       "      <td>1.249328</td>\n",
       "      <td>13.29637</td>\n",
       "      <td>0</td>\n",
       "      <td>0</td>\n",
       "      <td>0</td>\n",
       "      <td>0</td>\n",
       "      <td>1</td>\n",
       "      <td>0</td>\n",
       "      <td>0</td>\n",
       "      <td>0</td>\n",
       "    </tr>\n",
       "    <tr>\n",
       "      <th>4</th>\n",
       "      <td>9</td>\n",
       "      <td>Union Trust Company</td>\n",
       "      <td>ME</td>\n",
       "      <td>104355</td>\n",
       "      <td>231758</td>\n",
       "      <td>2.138290</td>\n",
       "      <td>3.620069</td>\n",
       "      <td>7.656856</td>\n",
       "      <td>13.66623</td>\n",
       "      <td>14.92180</td>\n",
       "      <td>...</td>\n",
       "      <td>1.994018</td>\n",
       "      <td>13.66623</td>\n",
       "      <td>0</td>\n",
       "      <td>0</td>\n",
       "      <td>0</td>\n",
       "      <td>0</td>\n",
       "      <td>0</td>\n",
       "      <td>1</td>\n",
       "      <td>0</td>\n",
       "      <td>0</td>\n",
       "    </tr>\n",
       "  </tbody>\n",
       "</table>\n",
       "<p>5 rows × 35 columns</p>\n",
       "</div>"
      ],
      "text/plain": [
       "   cert                 name stalp      sc  idlnls   intexpy   nonixay  \\\n",
       "0     9  Union Trust Company    ME   97811  214531  3.354426  3.635234   \n",
       "1     9  Union Trust Company    ME   99982  219438  2.274367  3.377611   \n",
       "2     9  Union Trust Company    ME  107207  224276  2.236159  3.517961   \n",
       "3     9  Union Trust Company    ME  108398  229173  2.191243  3.500027   \n",
       "4     9  Union Trust Company    ME  104355  231758  2.138290  3.620069   \n",
       "\n",
       "    rbc1aaj  rbc1rwaj   rbcrwaj  ...         npl      cet1  yd09  yd13  q1  \\\n",
       "0  7.396668  12.90231  14.15748  ...    2.075906  12.90231     0     0   0   \n",
       "1  7.715183  13.33261  14.58879  ...    1.144735  13.33261     0     0   1   \n",
       "2  7.733468  13.39351  14.64933  ...    0.872765  13.39351     0     0   0   \n",
       "3  7.681346  13.29637  14.55234  ...    1.249328  13.29637     0     0   0   \n",
       "4  7.656856  13.66623  14.92180  ...    1.994018  13.66623     0     0   0   \n",
       "\n",
       "   q2  q3  q4  stress  basel  \n",
       "0   0   0   1       0      0  \n",
       "1   0   0   0       0      0  \n",
       "2   1   0   0       0      0  \n",
       "3   0   1   0       0      0  \n",
       "4   0   0   1       0      0  \n",
       "\n",
       "[5 rows x 35 columns]"
      ]
     },
     "execution_count": 8,
     "metadata": {},
     "output_type": "execute_result"
    }
   ],
   "source": [
    "bank.head()"
   ]
  },
  {
   "cell_type": "code",
   "execution_count": 11,
   "metadata": {},
   "outputs": [
    {
     "data": {
      "text/plain": [
       "(502954, 35)"
      ]
     },
     "execution_count": 11,
     "metadata": {},
     "output_type": "execute_result"
    }
   ],
   "source": [
    "bank.shape"
   ]
  },
  {
   "cell_type": "code",
   "execution_count": 9,
   "metadata": {},
   "outputs": [
    {
     "data": {
      "text/html": [
       "<div>\n",
       "<style>\n",
       "    .dataframe thead tr:only-child th {\n",
       "        text-align: right;\n",
       "    }\n",
       "\n",
       "    .dataframe thead th {\n",
       "        text-align: left;\n",
       "    }\n",
       "\n",
       "    .dataframe tbody tr th {\n",
       "        vertical-align: top;\n",
       "    }\n",
       "</style>\n",
       "<table border=\"1\" class=\"dataframe\">\n",
       "  <thead>\n",
       "    <tr style=\"text-align: right;\">\n",
       "      <th></th>\n",
       "      <th>cert</th>\n",
       "      <th>sc</th>\n",
       "      <th>idlnls</th>\n",
       "      <th>intexpy</th>\n",
       "      <th>nonixay</th>\n",
       "      <th>rbc1aaj</th>\n",
       "      <th>rbc1rwaj</th>\n",
       "      <th>rbcrwaj</th>\n",
       "      <th>rbct1cer</th>\n",
       "      <th>time</th>\n",
       "      <th>...</th>\n",
       "      <th>npl</th>\n",
       "      <th>cet1</th>\n",
       "      <th>yd09</th>\n",
       "      <th>yd13</th>\n",
       "      <th>q1</th>\n",
       "      <th>q2</th>\n",
       "      <th>q3</th>\n",
       "      <th>q4</th>\n",
       "      <th>stress</th>\n",
       "      <th>basel</th>\n",
       "    </tr>\n",
       "  </thead>\n",
       "  <tbody>\n",
       "    <tr>\n",
       "      <th>count</th>\n",
       "      <td>502954.00000</td>\n",
       "      <td>5.029540e+05</td>\n",
       "      <td>5.029540e+05</td>\n",
       "      <td>502236.000000</td>\n",
       "      <td>502283.000000</td>\n",
       "      <td>502282.000000</td>\n",
       "      <td>502278.000000</td>\n",
       "      <td>502278.000000</td>\n",
       "      <td>93155.000000</td>\n",
       "      <td>502954.000000</td>\n",
       "      <td>...</td>\n",
       "      <td>502954.000000</td>\n",
       "      <td>502278.000000</td>\n",
       "      <td>502954.000000</td>\n",
       "      <td>502954.000000</td>\n",
       "      <td>502954.000000</td>\n",
       "      <td>502954.000000</td>\n",
       "      <td>502954.000000</td>\n",
       "      <td>502954.000000</td>\n",
       "      <td>502954.000000</td>\n",
       "      <td>502954.000000</td>\n",
       "    </tr>\n",
       "    <tr>\n",
       "      <th>mean</th>\n",
       "      <td>21556.28633</td>\n",
       "      <td>3.156285e+05</td>\n",
       "      <td>9.324236e+05</td>\n",
       "      <td>1.630615</td>\n",
       "      <td>3.539370</td>\n",
       "      <td>11.566651</td>\n",
       "      <td>21.404724</td>\n",
       "      <td>22.531715</td>\n",
       "      <td>18.466988</td>\n",
       "      <td>29.796226</td>\n",
       "      <td>...</td>\n",
       "      <td>1.819636</td>\n",
       "      <td>21.074640</td>\n",
       "      <td>0.484273</td>\n",
       "      <td>0.240557</td>\n",
       "      <td>0.250904</td>\n",
       "      <td>0.249049</td>\n",
       "      <td>0.247196</td>\n",
       "      <td>0.252852</td>\n",
       "      <td>0.008412</td>\n",
       "      <td>0.110207</td>\n",
       "    </tr>\n",
       "    <tr>\n",
       "      <th>std</th>\n",
       "      <td>16638.06825</td>\n",
       "      <td>5.740283e+06</td>\n",
       "      <td>1.456079e+07</td>\n",
       "      <td>3.141237</td>\n",
       "      <td>7.064994</td>\n",
       "      <td>21.622764</td>\n",
       "      <td>221.955190</td>\n",
       "      <td>221.947820</td>\n",
       "      <td>420.886827</td>\n",
       "      <td>18.135909</td>\n",
       "      <td>...</td>\n",
       "      <td>2.244437</td>\n",
       "      <td>229.765550</td>\n",
       "      <td>0.499753</td>\n",
       "      <td>0.427422</td>\n",
       "      <td>0.433534</td>\n",
       "      <td>0.432462</td>\n",
       "      <td>0.431382</td>\n",
       "      <td>0.434647</td>\n",
       "      <td>0.091332</td>\n",
       "      <td>0.313148</td>\n",
       "    </tr>\n",
       "    <tr>\n",
       "      <th>min</th>\n",
       "      <td>9.00000</td>\n",
       "      <td>-2.151900e+05</td>\n",
       "      <td>0.000000e+00</td>\n",
       "      <td>-0.044499</td>\n",
       "      <td>-6.054278</td>\n",
       "      <td>-519.469100</td>\n",
       "      <td>-2300.000000</td>\n",
       "      <td>-2300.000000</td>\n",
       "      <td>-12.459700</td>\n",
       "      <td>1.000000</td>\n",
       "      <td>...</td>\n",
       "      <td>0.000000</td>\n",
       "      <td>-33959.090000</td>\n",
       "      <td>0.000000</td>\n",
       "      <td>0.000000</td>\n",
       "      <td>0.000000</td>\n",
       "      <td>0.000000</td>\n",
       "      <td>0.000000</td>\n",
       "      <td>0.000000</td>\n",
       "      <td>0.000000</td>\n",
       "      <td>0.000000</td>\n",
       "    </tr>\n",
       "    <tr>\n",
       "      <th>25%</th>\n",
       "      <td>9319.00000</td>\n",
       "      <td>9.448000e+03</td>\n",
       "      <td>3.794900e+04</td>\n",
       "      <td>0.679787</td>\n",
       "      <td>2.397687</td>\n",
       "      <td>8.399933</td>\n",
       "      <td>11.505750</td>\n",
       "      <td>12.651472</td>\n",
       "      <td>0.000000</td>\n",
       "      <td>14.000000</td>\n",
       "      <td>...</td>\n",
       "      <td>0.512319</td>\n",
       "      <td>11.452480</td>\n",
       "      <td>0.000000</td>\n",
       "      <td>0.000000</td>\n",
       "      <td>0.000000</td>\n",
       "      <td>0.000000</td>\n",
       "      <td>0.000000</td>\n",
       "      <td>0.000000</td>\n",
       "      <td>0.000000</td>\n",
       "      <td>0.000000</td>\n",
       "    </tr>\n",
       "    <tr>\n",
       "      <th>50%</th>\n",
       "      <td>17514.00000</td>\n",
       "      <td>2.500050e+04</td>\n",
       "      <td>8.796450e+04</td>\n",
       "      <td>1.512787</td>\n",
       "      <td>2.903993</td>\n",
       "      <td>9.730633</td>\n",
       "      <td>14.285140</td>\n",
       "      <td>15.419890</td>\n",
       "      <td>12.962200</td>\n",
       "      <td>29.000000</td>\n",
       "      <td>...</td>\n",
       "      <td>1.191045</td>\n",
       "      <td>14.235805</td>\n",
       "      <td>0.000000</td>\n",
       "      <td>0.000000</td>\n",
       "      <td>0.000000</td>\n",
       "      <td>0.000000</td>\n",
       "      <td>0.000000</td>\n",
       "      <td>0.000000</td>\n",
       "      <td>0.000000</td>\n",
       "      <td>0.000000</td>\n",
       "    </tr>\n",
       "    <tr>\n",
       "      <th>75%</th>\n",
       "      <td>30152.00000</td>\n",
       "      <td>6.472475e+04</td>\n",
       "      <td>2.151938e+05</td>\n",
       "      <td>2.384280</td>\n",
       "      <td>3.510888</td>\n",
       "      <td>11.855207</td>\n",
       "      <td>19.117432</td>\n",
       "      <td>20.212487</td>\n",
       "      <td>17.441650</td>\n",
       "      <td>45.000000</td>\n",
       "      <td>...</td>\n",
       "      <td>2.320510</td>\n",
       "      <td>19.095505</td>\n",
       "      <td>1.000000</td>\n",
       "      <td>0.000000</td>\n",
       "      <td>1.000000</td>\n",
       "      <td>0.000000</td>\n",
       "      <td>0.000000</td>\n",
       "      <td>1.000000</td>\n",
       "      <td>0.000000</td>\n",
       "      <td>0.000000</td>\n",
       "    </tr>\n",
       "    <tr>\n",
       "      <th>max</th>\n",
       "      <td>91363.00000</td>\n",
       "      <td>4.173600e+08</td>\n",
       "      <td>9.487640e+08</td>\n",
       "      <td>1880.000000</td>\n",
       "      <td>780.952400</td>\n",
       "      <td>8290.625000</td>\n",
       "      <td>74283.340000</td>\n",
       "      <td>74283.340000</td>\n",
       "      <td>74283.300000</td>\n",
       "      <td>64.000000</td>\n",
       "      <td>...</td>\n",
       "      <td>84.153990</td>\n",
       "      <td>74283.340000</td>\n",
       "      <td>1.000000</td>\n",
       "      <td>1.000000</td>\n",
       "      <td>1.000000</td>\n",
       "      <td>1.000000</td>\n",
       "      <td>1.000000</td>\n",
       "      <td>1.000000</td>\n",
       "      <td>1.000000</td>\n",
       "      <td>1.000000</td>\n",
       "    </tr>\n",
       "  </tbody>\n",
       "</table>\n",
       "<p>8 rows × 33 columns</p>\n",
       "</div>"
      ],
      "text/plain": [
       "               cert            sc        idlnls        intexpy        nonixay  \\\n",
       "count  502954.00000  5.029540e+05  5.029540e+05  502236.000000  502283.000000   \n",
       "mean    21556.28633  3.156285e+05  9.324236e+05       1.630615       3.539370   \n",
       "std     16638.06825  5.740283e+06  1.456079e+07       3.141237       7.064994   \n",
       "min         9.00000 -2.151900e+05  0.000000e+00      -0.044499      -6.054278   \n",
       "25%      9319.00000  9.448000e+03  3.794900e+04       0.679787       2.397687   \n",
       "50%     17514.00000  2.500050e+04  8.796450e+04       1.512787       2.903993   \n",
       "75%     30152.00000  6.472475e+04  2.151938e+05       2.384280       3.510888   \n",
       "max     91363.00000  4.173600e+08  9.487640e+08    1880.000000     780.952400   \n",
       "\n",
       "             rbc1aaj       rbc1rwaj        rbcrwaj      rbct1cer  \\\n",
       "count  502282.000000  502278.000000  502278.000000  93155.000000   \n",
       "mean       11.566651      21.404724      22.531715     18.466988   \n",
       "std        21.622764     221.955190     221.947820    420.886827   \n",
       "min      -519.469100   -2300.000000   -2300.000000    -12.459700   \n",
       "25%         8.399933      11.505750      12.651472      0.000000   \n",
       "50%         9.730633      14.285140      15.419890     12.962200   \n",
       "75%        11.855207      19.117432      20.212487     17.441650   \n",
       "max      8290.625000   74283.340000   74283.340000  74283.300000   \n",
       "\n",
       "                time      ...                  npl           cet1  \\\n",
       "count  502954.000000      ...        502954.000000  502278.000000   \n",
       "mean       29.796226      ...             1.819636      21.074640   \n",
       "std        18.135909      ...             2.244437     229.765550   \n",
       "min         1.000000      ...             0.000000  -33959.090000   \n",
       "25%        14.000000      ...             0.512319      11.452480   \n",
       "50%        29.000000      ...             1.191045      14.235805   \n",
       "75%        45.000000      ...             2.320510      19.095505   \n",
       "max        64.000000      ...            84.153990   74283.340000   \n",
       "\n",
       "                yd09           yd13             q1             q2  \\\n",
       "count  502954.000000  502954.000000  502954.000000  502954.000000   \n",
       "mean        0.484273       0.240557       0.250904       0.249049   \n",
       "std         0.499753       0.427422       0.433534       0.432462   \n",
       "min         0.000000       0.000000       0.000000       0.000000   \n",
       "25%         0.000000       0.000000       0.000000       0.000000   \n",
       "50%         0.000000       0.000000       0.000000       0.000000   \n",
       "75%         1.000000       0.000000       1.000000       0.000000   \n",
       "max         1.000000       1.000000       1.000000       1.000000   \n",
       "\n",
       "                  q3             q4         stress          basel  \n",
       "count  502954.000000  502954.000000  502954.000000  502954.000000  \n",
       "mean        0.247196       0.252852       0.008412       0.110207  \n",
       "std         0.431382       0.434647       0.091332       0.313148  \n",
       "min         0.000000       0.000000       0.000000       0.000000  \n",
       "25%         0.000000       0.000000       0.000000       0.000000  \n",
       "50%         0.000000       0.000000       0.000000       0.000000  \n",
       "75%         0.000000       1.000000       0.000000       0.000000  \n",
       "max         1.000000       1.000000       1.000000       1.000000  \n",
       "\n",
       "[8 rows x 33 columns]"
      ]
     },
     "execution_count": 9,
     "metadata": {},
     "output_type": "execute_result"
    }
   ],
   "source": [
    "bank.describe()"
   ]
  },
  {
   "cell_type": "code",
   "execution_count": 37,
   "metadata": {},
   "outputs": [
    {
     "data": {
      "text/plain": [
       "cert        False\n",
       "name        False\n",
       "stalp       False\n",
       "sc          False\n",
       "idlnls      False\n",
       "intexpy      True\n",
       "nonixay      True\n",
       "rbc1aaj      True\n",
       "rbc1rwaj     True\n",
       "rbcrwaj      True\n",
       "rbct1cer     True\n",
       "time        False\n",
       "fedfunds    False\n",
       "unrate      False\n",
       "lnloan      False\n",
       "lnsc         True\n",
       "lngdp        True\n",
       "lncs         True\n",
       "lnpi         True\n",
       "grre         True\n",
       "lnasset     False\n",
       "lr          False\n",
       "inf          True\n",
       "profit       True\n",
       "chr          True\n",
       "npl         False\n",
       "cet1         True\n",
       "yd09        False\n",
       "yd13        False\n",
       "q1          False\n",
       "q2          False\n",
       "q3          False\n",
       "q4          False\n",
       "stress      False\n",
       "basel       False\n",
       "dtype: bool"
      ]
     },
     "execution_count": 37,
     "metadata": {},
     "output_type": "execute_result"
    }
   ],
   "source": [
    "bank.isnull().any()"
   ]
  },
  {
   "cell_type": "code",
   "execution_count": 67,
   "metadata": {},
   "outputs": [
    {
     "data": {
      "text/plain": [
       "676"
      ]
     },
     "execution_count": 67,
     "metadata": {},
     "output_type": "execute_result"
    }
   ],
   "source": [
    "len(bank[bank['cet1'].isnull() == True])"
   ]
  },
  {
   "cell_type": "code",
   "execution_count": 68,
   "metadata": {},
   "outputs": [],
   "source": [
    "bank2 = bank.dropna(axis = 0, subset=['cet1'])"
   ]
  },
  {
   "cell_type": "code",
   "execution_count": 69,
   "metadata": {},
   "outputs": [
    {
     "data": {
      "text/plain": [
       "(502954, 35)"
      ]
     },
     "execution_count": 69,
     "metadata": {},
     "output_type": "execute_result"
    }
   ],
   "source": [
    "bank.shape"
   ]
  },
  {
   "cell_type": "code",
   "execution_count": 70,
   "metadata": {},
   "outputs": [
    {
     "data": {
      "text/plain": [
       "(502278, 35)"
      ]
     },
     "execution_count": 70,
     "metadata": {},
     "output_type": "execute_result"
    }
   ],
   "source": [
    "bank2.shape"
   ]
  },
  {
   "cell_type": "code",
   "execution_count": 71,
   "metadata": {
    "collapsed": true
   },
   "outputs": [],
   "source": [
    "y = np.array(bank2['idlnls'])"
   ]
  },
  {
   "cell_type": "code",
   "execution_count": 72,
   "metadata": {},
   "outputs": [],
   "source": [
    "X = np.array(bank2[['cet1', 'npl']])"
   ]
  },
  {
   "cell_type": "markdown",
   "metadata": {},
   "source": [
    "#### Using sklearn, calculate t and p by self?"
   ]
  },
  {
   "cell_type": "code",
   "execution_count": 73,
   "metadata": {},
   "outputs": [],
   "source": [
    "lr = LinearRegression().fit(X, y)"
   ]
  },
  {
   "cell_type": "code",
   "execution_count": 74,
   "metadata": {},
   "outputs": [
    {
     "data": {
      "text/plain": [
       "array([  -151.2831301 ,  46528.99414244])"
      ]
     },
     "execution_count": 74,
     "metadata": {},
     "output_type": "execute_result"
    }
   ],
   "source": [
    "lr.coef_"
   ]
  },
  {
   "cell_type": "code",
   "execution_count": 75,
   "metadata": {},
   "outputs": [
    {
     "data": {
      "text/plain": [
       "849556.43423228431"
      ]
     },
     "execution_count": 75,
     "metadata": {},
     "output_type": "execute_result"
    }
   ],
   "source": [
    "lr.intercept_"
   ]
  },
  {
   "cell_type": "markdown",
   "metadata": {},
   "source": [
    "#### Using stats model"
   ]
  },
  {
   "cell_type": "code",
   "execution_count": 86,
   "metadata": {
    "collapsed": true
   },
   "outputs": [],
   "source": [
    "Xc = sm.add_constant(X)"
   ]
  },
  {
   "cell_type": "code",
   "execution_count": 87,
   "metadata": {
    "collapsed": true
   },
   "outputs": [],
   "source": [
    "est = sm.OLS(y, Xc)"
   ]
  },
  {
   "cell_type": "code",
   "execution_count": 88,
   "metadata": {
    "collapsed": true
   },
   "outputs": [],
   "source": [
    "result = est.fit()"
   ]
  },
  {
   "cell_type": "code",
   "execution_count": 89,
   "metadata": {},
   "outputs": [
    {
     "data": {
      "text/html": [
       "<table class=\"simpletable\">\n",
       "<caption>OLS Regression Results</caption>\n",
       "<tr>\n",
       "  <th>Dep. Variable:</th>            <td>y</td>        <th>  R-squared:         </th>  <td>   0.000</td>  \n",
       "</tr>\n",
       "<tr>\n",
       "  <th>Model:</th>                   <td>OLS</td>       <th>  Adj. R-squared:    </th>  <td>   0.000</td>  \n",
       "</tr>\n",
       "<tr>\n",
       "  <th>Method:</th>             <td>Least Squares</td>  <th>  F-statistic:       </th>  <td>   14.51</td>  \n",
       "</tr>\n",
       "<tr>\n",
       "  <th>Date:</th>             <td>Fri, 18 May 2018</td> <th>  Prob (F-statistic):</th>  <td>5.02e-07</td>  \n",
       "</tr>\n",
       "<tr>\n",
       "  <th>Time:</th>                 <td>16:06:25</td>     <th>  Log-Likelihood:    </th> <td>-8.9975e+06</td>\n",
       "</tr>\n",
       "<tr>\n",
       "  <th>No. Observations:</th>      <td>502278</td>      <th>  AIC:               </th>  <td>1.800e+07</td> \n",
       "</tr>\n",
       "<tr>\n",
       "  <th>Df Residuals:</th>          <td>502275</td>      <th>  BIC:               </th>  <td>1.800e+07</td> \n",
       "</tr>\n",
       "<tr>\n",
       "  <th>Df Model:</th>              <td>     2</td>      <th>                     </th>      <td> </td>     \n",
       "</tr>\n",
       "<tr>\n",
       "  <th>Covariance Type:</th>      <td>nonrobust</td>    <th>                     </th>      <td> </td>     \n",
       "</tr>\n",
       "</table>\n",
       "<table class=\"simpletable\">\n",
       "<tr>\n",
       "    <td></td>       <th>coef</th>     <th>std err</th>      <th>t</th>      <th>P>|t|</th>  <th>[0.025</th>    <th>0.975]</th>  \n",
       "</tr>\n",
       "<tr>\n",
       "  <th>const</th> <td> 8.496e+05</td> <td> 2.66e+04</td> <td>   31.981</td> <td> 0.000</td> <td> 7.97e+05</td> <td> 9.02e+05</td>\n",
       "</tr>\n",
       "<tr>\n",
       "  <th>x1</th>    <td> -151.2831</td> <td>   89.489</td> <td>   -1.691</td> <td> 0.091</td> <td> -326.680</td> <td>   24.113</td>\n",
       "</tr>\n",
       "<tr>\n",
       "  <th>x2</th>    <td> 4.653e+04</td> <td> 9158.843</td> <td>    5.080</td> <td> 0.000</td> <td> 2.86e+04</td> <td> 6.45e+04</td>\n",
       "</tr>\n",
       "</table>\n",
       "<table class=\"simpletable\">\n",
       "<tr>\n",
       "  <th>Omnibus:</th>       <td>1473231.188</td> <th>  Durbin-Watson:     </th>    <td>   0.037</td>    \n",
       "</tr>\n",
       "<tr>\n",
       "  <th>Prob(Omnibus):</th>   <td> 0.000</td>    <th>  Jarque-Bera (JB):  </th> <td>86190536821.533</td>\n",
       "</tr>\n",
       "<tr>\n",
       "  <th>Skew:</th>            <td>41.652</td>    <th>  Prob(JB):          </th>    <td>    0.00</td>    \n",
       "</tr>\n",
       "<tr>\n",
       "  <th>Kurtosis:</th>       <td>2030.669</td>   <th>  Cond. No.          </th>    <td>    306.</td>    \n",
       "</tr>\n",
       "</table>"
      ],
      "text/plain": [
       "<class 'statsmodels.iolib.summary.Summary'>\n",
       "\"\"\"\n",
       "                            OLS Regression Results                            \n",
       "==============================================================================\n",
       "Dep. Variable:                      y   R-squared:                       0.000\n",
       "Model:                            OLS   Adj. R-squared:                  0.000\n",
       "Method:                 Least Squares   F-statistic:                     14.51\n",
       "Date:                Fri, 18 May 2018   Prob (F-statistic):           5.02e-07\n",
       "Time:                        16:06:25   Log-Likelihood:            -8.9975e+06\n",
       "No. Observations:              502278   AIC:                         1.800e+07\n",
       "Df Residuals:                  502275   BIC:                         1.800e+07\n",
       "Df Model:                           2                                         \n",
       "Covariance Type:            nonrobust                                         \n",
       "==============================================================================\n",
       "                 coef    std err          t      P>|t|      [0.025      0.975]\n",
       "------------------------------------------------------------------------------\n",
       "const       8.496e+05   2.66e+04     31.981      0.000    7.97e+05    9.02e+05\n",
       "x1          -151.2831     89.489     -1.691      0.091    -326.680      24.113\n",
       "x2          4.653e+04   9158.843      5.080      0.000    2.86e+04    6.45e+04\n",
       "==============================================================================\n",
       "Omnibus:                  1473231.188   Durbin-Watson:                   0.037\n",
       "Prob(Omnibus):                  0.000   Jarque-Bera (JB):      86190536821.533\n",
       "Skew:                          41.652   Prob(JB):                         0.00\n",
       "Kurtosis:                    2030.669   Cond. No.                         306.\n",
       "==============================================================================\n",
       "\n",
       "Warnings:\n",
       "[1] Standard Errors assume that the covariance matrix of the errors is correctly specified.\n",
       "\"\"\""
      ]
     },
     "execution_count": 89,
     "metadata": {},
     "output_type": "execute_result"
    }
   ],
   "source": [
    "result.summary()"
   ]
  },
  {
   "cell_type": "markdown",
   "metadata": {
    "collapsed": true
   },
   "source": [
    "#### Example from My Research"
   ]
  },
  {
   "cell_type": "markdown",
   "metadata": {
    "collapsed": true
   },
   "source": [
    "A Dynamic Bank Lending Regression Output From Stata, System GMM:"
   ]
  },
  {
   "cell_type": "code",
   "execution_count": 20,
   "metadata": {},
   "outputs": [
    {
     "data": {
      "image/png": "[encoded data removed]",
      "text/plain": [
       "<IPython.core.display.Image object>"
      ]
     },
     "execution_count": 20,
     "metadata": {
      "image/png": {
       "width": 600
      }
     },
     "output_type": "execute_result"
    }
   ],
   "source": [
    "Image(filename='gmm.png', width = 600)"
   ]
  },
  {
   "cell_type": "markdown",
   "metadata": {},
   "source": [
    "A Presentation Report:"
   ]
  },
  {
   "cell_type": "code",
   "execution_count": 23,
   "metadata": {},
   "outputs": [
    {
     "data": {
      "image/png": "[encoded data removed]",
      "text/plain": [
       "<IPython.core.display.Image object>"
      ]
     },
     "execution_count": 23,
     "metadata": {
      "image/png": {
       "width": 500
      }
     },
     "output_type": "execute_result"
    }
   ],
   "source": [
    "Image(filename='gmmp.png', width = 500)"
   ]
  },
  {
   "cell_type": "markdown",
   "metadata": {},
   "source": [
    "## Bayesian Estimation"
   ]
  },
  {
   "cell_type": "markdown",
   "metadata": {},
   "source": [
    "#### Another Method:\n",
    "Neyman-Pearson: All-or-noting, establish testing rule, either reject or not.\n",
    "\n",
    "What if the test statistics is close to the boundary?  Should we reject or not?  And cannot incorporate results from other studies.\n",
    "\n",
    "Bayesian: Middle ground, update prior beliefs.  Combining evidence from before (prior beliefs) with the current evidence (data) to reach a new conclusion (posterior beliefs)."
   ]
  },
  {
   "cell_type": "markdown",
   "metadata": {
    "collapsed": true
   },
   "source": [
    "caution to use, have to pick prior, subjective, but all estimation are pretty subjective."
   ]
  },
  {
   "cell_type": "code",
   "execution_count": null,
   "metadata": {
    "collapsed": true
   },
   "outputs": [],
   "source": []
  },
  {
   "cell_type": "code",
   "execution_count": null,
   "metadata": {
    "collapsed": true
   },
   "outputs": [],
   "source": []
  },
  {
   "cell_type": "markdown",
   "metadata": {
    "collapsed": true
   },
   "source": [
    "parametric and non-parametric, relax assumption, choose estimator that requires less assumption, advance of GMM, heterscadasticity, likelihood based, GMM, Bayesian estimation.  Full, semi, to non-parametric estimation.  Relax assumption, but at a cost of weak conclusion from data."
   ]
  }
 ],
 "metadata": {
  "kernelspec": {
   "display_name": "Python 3",
   "language": "python",
   "name": "python3"
  },
  "language_info": {
   "codemirror_mode": {
    "name": "ipython",
    "version": 3
   },
   "file_extension": ".py",
   "mimetype": "text/x-python",
   "name": "python",
   "nbconvert_exporter": "python",
   "pygments_lexer": "ipython3",
   "version": "3.6.1"
  }
 },
 "nbformat": 4,
 "nbformat_minor": 2
}
