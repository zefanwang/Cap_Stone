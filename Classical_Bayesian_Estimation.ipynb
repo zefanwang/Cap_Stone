{
 "cells": [
  {
   "cell_type": "markdown",
   "metadata": {},
   "source": [
    "# Classical & Bayesian Estimation"
   ]
  },
  {
   "cell_type": "markdown",
   "metadata": {},
   "source": [
    "### Recommended Book: Greene, W. H. (2003). Econometric analysis. Pearson Education India.\n",
    "1. Handbook for econometric & statistical analysis and modeling: linear & nonlinear, panel & time-series data, LS & ML & GMM & Bayesian\n",
    "2. Answers for most of interview questions reagrding statistics and modeling: multicollinearity\n",
    "3. Implications on the connection between econometrics and machine learning: adjusted R-square, information criteria & regularization"
   ]
  },
  {
   "cell_type": "markdown",
   "metadata": {
    "collapsed": true
   },
   "source": [
    "#### Related Chapter:  \n",
    "Chapter 5 - Hypothesis Testing\n",
    "\n",
    "Chapter 16 - Bayesian Estimation\n",
    "\n",
    "Chapter 12 - Estimation Frameworks in Econometrics"
   ]
  },
  {
   "cell_type": "markdown",
   "metadata": {},
   "source": [
    "### Different Estimations\n",
    "-  LS (BLUE) & ML & GMM & Bayesian\n",
    "-  Full & Semi & Non-Parametric Estimation\n",
    "-  Different Assumptions, Properties & Conclusions"
   ]
  },
  {
   "cell_type": "markdown",
   "metadata": {},
   "source": [
    "## Hypothesis Testing"
   ]
  },
  {
   "cell_type": "markdown",
   "metadata": {},
   "source": [
    "#### Linear Regression:\n",
    "-  Estimation\n",
    "-  Prediction\n",
    "-  Hypothesis Testing: Test if a variable is relevant or its parameter is equal to some value based on data."
   ]
  },
  {
   "cell_type": "markdown",
   "metadata": {},
   "source": [
    "#### Baseline Regression Model:\n",
    "$y = \\beta\\ X + \\epsilon$\n",
    "\n",
    "$y = \\beta_1\\ X_1 + \\beta_2\\ X_2 + \\beta_3\\ X_3 + \\epsilon$\n",
    "\n",
    "#### A Standard Dynamic Lending Model:\n",
    "##### Tesing if bank's capital ratio matters for its lending decisison: $\\eta\\ = 0$ ?\n",
    "$\\Delta \\ln L_{i,t} = \\alpha_{i} + \\theta_{t} + \\sum_{j=1}^{4} \\beta_j\\ \\Delta \\ln L_{i,t-j} + \\eta\\ Capital_{i,t-1} + \\sum_{j=1}^{4}\\ \\mu_j\\ \\Delta MP_{t-j} + \\phi\\ Z_{i,t-j}+\\epsilon_{i,t}$\n",
    "\n",
    "OLS assumption is violated, so OLS and FE are not consistent, use system GMM to reach a consistent and efficient estimation."
   ]
  },
  {
   "cell_type": "markdown",
   "metadata": {
    "collapsed": true
   },
   "source": [
    "#### Questions:\n",
    "How do we decide if the parameter is close to zero enough?\n",
    "\n",
    "How certain are we?\n",
    "\n",
    "How likely we are actually wrong?"
   ]
  },
  {
   "cell_type": "markdown",
   "metadata": {
    "collapsed": true
   },
   "source": [
    "#### Tesing if $\\beta_1$ equals to something conditional on that $X_2$ and $X_3$ has been taken care:\n",
    "$H_0: \\beta_2 = 0$\n",
    "\n",
    "$H_1: \\beta_2 \\neq 0$\n",
    "\n",
    "Based on data\n"
   ]
  },
  {
   "cell_type": "markdown",
   "metadata": {},
   "source": [
    "#### Method:\n",
    "Neyman & Pearson (1933): Rejection region and acceptance regaion.  Or Critical Value.\n",
    "\n",
    "Test how far the parameter suggested by data is from the assumed value or 0 to give a enough confidence that we can make a conclusion.\n",
    "\n",
    "Linear & Nonlinear Restrictions: Wald tests (test restriction's closeness to 0), Fit based tests ($R^2$).\n",
    "\n",
    "Should be in matrix form, but for simplicity:\n",
    "\n",
    "Wald Test (significance or distance test): $W = \\dfrac{\\beta_1 - \\beta_0}{\\sqrt{\\sigma^2}}$\n",
    "\n",
    "Cannot observe population variance, use sample variance instead:\n",
    "\n",
    "T Test: $t = \\dfrac{b - \\beta_0}{\\sqrt{s^2}}$\n",
    "\n",
    "Compare with critical value which is based on $\\alpha$ (size) and degree of freedom (N-K)\n",
    "\n",
    "In Short:\n",
    "$t = \\dfrac{b}{s}$, and usually compare with 1.96 if sample is large.  Units of standard deviation from 0, the large the t is, the more likely the parameter is not zero, or the more likely the variable is relevant."
   ]
  },
  {
   "cell_type": "markdown",
   "metadata": {},
   "source": [
    "#### Two types of Error\n",
    "Type I Error: Fail to accept $H_0$\n",
    "\n",
    "Type II Error: Fail to reject $H_0$\n",
    "\n",
    "Size of the test: Probability of Type I error.  Probability of incorrectly reject the null.\n",
    "\n",
    "Power of a test: 1 - Probability of Type II error.  Probability of correctly reject a false null.\n",
    "\n",
    "P-value, probability of making type I error.  The smaller, the better.  The smaller the p-value is, the large the t statistics will be, the more significant the variable is, and the parameter is more likely to be non-zero."
   ]
  },
  {
   "cell_type": "markdown",
   "metadata": {},
   "source": [
    "Graph I created using tool from Website: http://www.imathas.com/stattools/norm.html\n",
    "<img src=\"ttest.png\" width=\"500\">"
   ]
  },
  {
   "cell_type": "markdown",
   "metadata": {},
   "source": [
    "Wikipedia: https://en.wikipedia.org/wiki/Precision_and_recall\n",
    "\n",
    "By Walber - Own work, CC BY-SA 4.0, https://commons.wikimedia.org/w/index.php?curid=36926283\n",
    "<img src=\"precisionrecall.png\" width = \"350\">\n",
    "\n",
    "$Precision = \\dfrac{TP}{TP + FP}$\n",
    "\n",
    "$Recall = \\dfrac{TP}{TP + FN}$\n",
    "\n",
    "$H_0$ : Negative\n",
    "\n",
    "$H_1$ : Positive\n",
    "\n",
    "Type I Error: Fail to accept $H_0$, False Positive, 3\n",
    "\n",
    "Type II Error: Fail to reject $H_0$, False Negative, 7"
   ]
  },
  {
   "cell_type": "markdown",
   "metadata": {},
   "source": [
    "#### Assumptions\n",
    "Consistent if power goes to 1 as sample size grows to infinity.  Testing procedure is consistent if testing based on a consistent estimator.  For linear regression, LS is best linear unbiased estimator (BLUE).\n",
    "\n",
    "Linear Regression Model Assumptions: LS is BLUE, effecient and consistent\n",
    "1. Linearity: Linear relationship between y and X, linear in parameter, not variable, for example: log and higher order.\n",
    "2. Full rank: no exact linear relationship among X, or multicollinearity, identification problem.  Test VIF.\n",
    "3. Exogeneity of the independent variables: no correlation between X and $\\epsilon$, biased and inconsistent, omitted variable bias.  Use instruments or lag...\n",
    "4. iid disturbance, no autocorrelation between disturbance, and homoscedasticity or constant variance $\\sigma^2$.  Use robust variance\n",
    "5. Stochastic or nonstochastic data\n",
    "6. Normal distribution of disturbances\n",
    "\n",
    "In the above lending model, assumption 3 is violated, LS is not consistent anymore.  So use GMM.\n",
    "\n",
    "5 & 6 might be relaxed for large sample, 1 - 4 are strong\n",
    "\n",
    "Small sample, t test, disturbances normally distributed: Can carry the test result to parameter.  Population variance cannot be observed, use sample variance instead.  As sample size increase, quality of t statistics approximation improves, asymptotically normal, no need for normally distributed disturbance.  Central Limit Theorem.  Wald test, Z test or $\\chi^2$ might be more efficient than t."
   ]
  },
  {
   "cell_type": "markdown",
   "metadata": {},
   "source": [
    "#### Coding Example for A Simple Regression"
   ]
  },
  {
   "cell_type": "code",
   "execution_count": null,
   "metadata": {
    "collapsed": true
   },
   "outputs": [],
   "source": []
  },
  {
   "cell_type": "code",
   "execution_count": null,
   "metadata": {
    "collapsed": true
   },
   "outputs": [],
   "source": []
  },
  {
   "cell_type": "markdown",
   "metadata": {
    "collapsed": true
   },
   "source": [
    "#### Example from My Research"
   ]
  },
  {
   "cell_type": "markdown",
   "metadata": {
    "collapsed": true
   },
   "source": [
    "A Dynamic Bank Lending Regression Output From Stata, System GMM:\n",
    "<img src=\"gmm.png\">\n",
    "\n",
    "A Presentation Report:\n",
    "<img src=\"gmmp.png\" width=\"500\">"
   ]
  },
  {
   "cell_type": "code",
   "execution_count": 2,
   "metadata": {},
   "outputs": [],
   "source": [
    "from IPython.display import Image\n",
    "i = Image(filename='precisionrecall.png')"
   ]
  },
  {
   "cell_type": "code",
   "execution_count": 3,
   "metadata": {},
   "outputs": [
    {
     "data": {
      "image/png": "[encoded data removed]",
      "text/plain": [
       "<IPython.core.display.Image object>"
      ]
     },
     "execution_count": 3,
     "metadata": {},
     "output_type": "execute_result"
    }
   ],
   "source": [
    "i"
   ]
  },
  {
   "cell_type": "markdown",
   "metadata": {},
   "source": [
    "## Bayesian Estimation"
   ]
  },
  {
   "cell_type": "markdown",
   "metadata": {},
   "source": [
    "#### Another Method:\n",
    "Neyman-Pearson: All-or-noting, establish testing rule, either reject or not.\n",
    "\n",
    "What if the test statistics is close to the boundary?  Should we reject or not?  And cannot incorporate results from other studies.\n",
    "\n",
    "Bayesian: Middle ground, update prior beliefs.  Combining evidence from before (prior beliefs) with the current evidence (data) to reach a new conclusion (posterior beliefs)."
   ]
  },
  {
   "cell_type": "markdown",
   "metadata": {
    "collapsed": true
   },
   "source": [
    "caution to use, have to pick prior, subjective, but all estimation are pretty subjective."
   ]
  },
  {
   "cell_type": "code",
   "execution_count": null,
   "metadata": {
    "collapsed": true
   },
   "outputs": [],
   "source": []
  },
  {
   "cell_type": "code",
   "execution_count": null,
   "metadata": {
    "collapsed": true
   },
   "outputs": [],
   "source": []
  },
  {
   "cell_type": "markdown",
   "metadata": {
    "collapsed": true
   },
   "source": [
    "parametric and non-parametric, relax assumption, choose estimator that requires less assumption, advance of GMM, heterscadasticity, likelihood based, GMM, Bayesian estimation.  Full, semi, to non-parametric estimation.  Relax assumption, but at a cost of weak conclusion from data."
   ]
  }
 ],
 "metadata": {
  "kernelspec": {
   "display_name": "Python 3",
   "language": "python",
   "name": "python3"
  },
  "language_info": {
   "codemirror_mode": {
    "name": "ipython",
    "version": 3
   },
   "file_extension": ".py",
   "mimetype": "text/x-python",
   "name": "python",
   "nbconvert_exporter": "python",
   "pygments_lexer": "ipython3",
   "version": "3.6.1"
  }
 },
 "nbformat": 4,
 "nbformat_minor": 2
}
